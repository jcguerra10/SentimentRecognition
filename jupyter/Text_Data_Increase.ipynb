{
 "cells": [
  {
   "cell_type": "markdown",
   "source": [
    "# Data Increasing"
   ],
   "metadata": {
    "collapsed": false
   }
  },
  {
   "cell_type": "markdown",
   "source": [
    "El siguiente notebook presenta el proceso de incremento y limpieza de nuevos datos de texto. Igualmente, al final se realizará la unión con los 65 mil registos de texto existentes y ya procesados."
   ],
   "metadata": {
    "collapsed": false
   }
  },
  {
   "cell_type": "markdown",
   "source": [
    "## Carga de nuevos datos\n",
    "\n",
    "Para almacenar los datos que se van a ir cargando y limpiando, vamos a emplear un diccionario con los nombres de los archivos asociados a su dataset limpio."
   ],
   "metadata": {
    "collapsed": false
   }
  },
  {
   "cell_type": "code",
   "execution_count": 1,
   "outputs": [],
   "source": [
    "import pandas as pd\n",
    "\n",
    "DATA_DIR = \"../data/text/raw/\"\n",
    "cleaned_data = {}"
   ],
   "metadata": {
    "collapsed": false,
    "ExecuteTime": {
     "start_time": "2023-05-14T17:01:09.139921Z",
     "end_time": "2023-05-14T17:01:10.794793Z"
    }
   }
  },
  {
   "cell_type": "markdown",
   "source": [
    "### Anon Disorders\n",
    "\n",
    "OJO: La siguientes celdas demoran en ejecutar porque manipula un archivo de 4GB"
   ],
   "metadata": {
    "collapsed": false
   }
  },
  {
   "cell_type": "code",
   "execution_count": 4,
   "outputs": [
    {
     "data": {
      "text/plain": "   Unnamed: 0     user_id                                               text  \\\n0           0  3f21058fc8  @amirulmokhtar Exactly! We were busy buat untu...   \n1           1  3f21058fc8  Ternangis baca text &amp; dengar call reply di...   \n2           2  3f21058fc8  I learn smthg very valuable today.\\n\\nWhen I w...   \n3           3  3f21058fc8  @MintKr Ohhh okay. So, to create more opportun...   \n4           4  3f21058fc8  @MintKr Perspective expanding experience tu ap...   \n\n  disorder  \n0  anxiety  \n1  anxiety  \n2  anxiety  \n3  anxiety  \n4  anxiety  ",
      "text/html": "<div>\n<style scoped>\n    .dataframe tbody tr th:only-of-type {\n        vertical-align: middle;\n    }\n\n    .dataframe tbody tr th {\n        vertical-align: top;\n    }\n\n    .dataframe thead th {\n        text-align: right;\n    }\n</style>\n<table border=\"1\" class=\"dataframe\">\n  <thead>\n    <tr style=\"text-align: right;\">\n      <th></th>\n      <th>Unnamed: 0</th>\n      <th>user_id</th>\n      <th>text</th>\n      <th>disorder</th>\n    </tr>\n  </thead>\n  <tbody>\n    <tr>\n      <th>0</th>\n      <td>0</td>\n      <td>3f21058fc8</td>\n      <td>@amirulmokhtar Exactly! We were busy buat untu...</td>\n      <td>anxiety</td>\n    </tr>\n    <tr>\n      <th>1</th>\n      <td>1</td>\n      <td>3f21058fc8</td>\n      <td>Ternangis baca text &amp;amp; dengar call reply di...</td>\n      <td>anxiety</td>\n    </tr>\n    <tr>\n      <th>2</th>\n      <td>2</td>\n      <td>3f21058fc8</td>\n      <td>I learn smthg very valuable today.\\n\\nWhen I w...</td>\n      <td>anxiety</td>\n    </tr>\n    <tr>\n      <th>3</th>\n      <td>3</td>\n      <td>3f21058fc8</td>\n      <td>@MintKr Ohhh okay. So, to create more opportun...</td>\n      <td>anxiety</td>\n    </tr>\n    <tr>\n      <th>4</th>\n      <td>4</td>\n      <td>3f21058fc8</td>\n      <td>@MintKr Perspective expanding experience tu ap...</td>\n      <td>anxiety</td>\n    </tr>\n  </tbody>\n</table>\n</div>"
     },
     "execution_count": 4,
     "metadata": {},
     "output_type": "execute_result"
    }
   ],
   "source": [
    "df_anon_disorder = pd.read_csv(DATA_DIR + \"anon_disorder_tweets.csv\")\n",
    "df_anon_disorder.head()"
   ],
   "metadata": {
    "collapsed": false,
    "ExecuteTime": {
     "start_time": "2023-05-10T00:07:34.901376Z",
     "end_time": "2023-05-10T00:16:27.991654Z"
    }
   }
  },
  {
   "cell_type": "code",
   "execution_count": 6,
   "outputs": [
    {
     "data": {
      "text/plain": "Index(['text', 'disorder'], dtype='object')"
     },
     "execution_count": 6,
     "metadata": {},
     "output_type": "execute_result"
    }
   ],
   "source": [
    "df_anon_disorder = df_anon_disorder.drop(columns=['Unnamed: 0', 'user_id'], axis=1)\n",
    "df_anon_disorder.columns"
   ],
   "metadata": {
    "collapsed": false,
    "ExecuteTime": {
     "start_time": "2023-05-10T00:24:16.771664Z",
     "end_time": "2023-05-10T00:26:08.493335Z"
    }
   }
  },
  {
   "cell_type": "code",
   "execution_count": 7,
   "outputs": [
    {
     "name": "stdout",
     "output_type": "stream",
     "text": [
      "['anxiety', 'depression', 'ptsd', 'borderline', 'panic', 'bipolar']\n"
     ]
    },
    {
     "ename": "TypeError",
     "evalue": "'tuple' object is not callable",
     "output_type": "error",
     "traceback": [
      "\u001B[1;31m---------------------------------------------------------------------------\u001B[0m",
      "\u001B[1;31mTypeError\u001B[0m                                 Traceback (most recent call last)",
      "Cell \u001B[1;32mIn[7], line 5\u001B[0m\n\u001B[0;32m      2\u001B[0m \u001B[38;5;28mprint\u001B[39m(\u001B[38;5;28mlist\u001B[39m(df_anon_disorder[\u001B[38;5;124m'\u001B[39m\u001B[38;5;124mpriority\u001B[39m\u001B[38;5;124m'\u001B[39m]\u001B[38;5;241m.\u001B[39munique()))\n\u001B[0;32m      3\u001B[0m df_anon_disorder[\u001B[38;5;124m'\u001B[39m\u001B[38;5;124mpriority\u001B[39m\u001B[38;5;124m'\u001B[39m] \u001B[38;5;241m=\u001B[39m df_anon_disorder[\u001B[38;5;124m'\u001B[39m\u001B[38;5;124mpriority\u001B[39m\u001B[38;5;124m'\u001B[39m]\u001B[38;5;241m.\u001B[39mreplace(\n\u001B[0;32m      4\u001B[0m     \u001B[38;5;28mlist\u001B[39m(df_anon_disorder[\u001B[38;5;124m'\u001B[39m\u001B[38;5;124mpriority\u001B[39m\u001B[38;5;124m'\u001B[39m]\u001B[38;5;241m.\u001B[39munique()), \u001B[38;5;241m1\u001B[39m)\n\u001B[1;32m----> 5\u001B[0m \u001B[43mdf_anon_disorder\u001B[49m\u001B[38;5;241;43m.\u001B[39;49m\u001B[43mshape\u001B[49m\u001B[43m(\u001B[49m\u001B[43m)\u001B[49m\n",
      "\u001B[1;31mTypeError\u001B[0m: 'tuple' object is not callable"
     ]
    }
   ],
   "source": [
    "df_anon_disorder.rename(columns={'disorder': 'priority'}, inplace=True)\n",
    "print(list(df_anon_disorder['priority'].unique()))\n",
    "df_anon_disorder['priority'] = df_anon_disorder['priority'].replace(\n",
    "    list(df_anon_disorder['priority'].unique()), 1)"
   ],
   "metadata": {
    "collapsed": false
   }
  },
  {
   "cell_type": "code",
   "execution_count": 11,
   "outputs": [
    {
     "data": {
      "text/plain": "(32191368, 2)"
     },
     "execution_count": 11,
     "metadata": {},
     "output_type": "execute_result"
    }
   ],
   "source": [
    "df_anon_disorder.dropna(inplace=True)\n",
    "df_anon_disorder.shape"
   ],
   "metadata": {
    "collapsed": false,
    "ExecuteTime": {
     "start_time": "2023-05-10T00:42:23.714306Z",
     "end_time": "2023-05-10T00:58:37.543135Z"
    }
   }
  },
  {
   "cell_type": "code",
   "execution_count": 12,
   "outputs": [],
   "source": [
    "cleaned_data['anon_disorder_tweets.csv'] = df_anon_disorder"
   ],
   "metadata": {
    "collapsed": false,
    "ExecuteTime": {
     "start_time": "2023-05-10T01:00:25.695376Z",
     "end_time": "2023-05-10T01:00:25.712372Z"
    }
   }
  },
  {
   "cell_type": "markdown",
   "source": [
    "### Anxious_Tweets"
   ],
   "metadata": {
    "collapsed": false
   }
  },
  {
   "cell_type": "code",
   "execution_count": 2,
   "metadata": {
    "collapsed": true,
    "ExecuteTime": {
     "start_time": "2023-05-14T17:01:17.107248Z",
     "end_time": "2023-05-14T17:01:17.163365Z"
    }
   },
   "outputs": [
    {
     "data": {
      "text/plain": "(8460, 2)"
     },
     "execution_count": 2,
     "metadata": {},
     "output_type": "execute_result"
    }
   ],
   "source": [
    "df_anxious = pd.read_csv(DATA_DIR + \"Anxious_Tweets.csv\")\n",
    "df_anxious['priority'] = [1 for i in range(df_anxious.shape[0])]\n",
    "df_anxious.rename(columns={'0': 'text'}, inplace=True)\n",
    "df_anxious.dropna(inplace=True)\n",
    "df_anxious.drop(columns=['Unnamed: 0'], inplace=True)\n",
    "df_anxious.shape"
   ]
  },
  {
   "cell_type": "code",
   "execution_count": 3,
   "outputs": [],
   "source": [
    "cleaned_data['Anxious_Tweets.csv'] = df_anxious"
   ],
   "metadata": {
    "collapsed": false,
    "ExecuteTime": {
     "start_time": "2023-05-14T17:01:20.378663Z",
     "end_time": "2023-05-14T17:01:20.401661Z"
    }
   }
  },
  {
   "cell_type": "markdown",
   "source": [
    "### Dataset Students Anxiety and depression"
   ],
   "metadata": {
    "collapsed": false
   }
  },
  {
   "cell_type": "code",
   "execution_count": 4,
   "outputs": [
    {
     "data": {
      "text/plain": "(6970, 2)"
     },
     "execution_count": 4,
     "metadata": {},
     "output_type": "execute_result"
    }
   ],
   "source": [
    "df_dataset = pd.read_excel(DATA_DIR + \"dataset.xlsx\")\n",
    "df_dataset.rename(columns={'label':'priority'}, inplace=True)\n",
    "df_dataset.dropna(inplace=True)\n",
    "df_dataset.shape"
   ],
   "metadata": {
    "collapsed": false,
    "ExecuteTime": {
     "start_time": "2023-05-14T17:01:22.414246Z",
     "end_time": "2023-05-14T17:01:24.001856Z"
    }
   }
  },
  {
   "cell_type": "code",
   "execution_count": 5,
   "outputs": [],
   "source": [
    "cleaned_data['dataset.xlsx'] = df_dataset"
   ],
   "metadata": {
    "collapsed": false,
    "ExecuteTime": {
     "start_time": "2023-05-14T17:01:25.057479Z",
     "end_time": "2023-05-14T17:01:25.068476Z"
    }
   }
  },
  {
   "cell_type": "markdown",
   "source": [
    "### Lonely_Tweets"
   ],
   "metadata": {
    "collapsed": false
   }
  },
  {
   "cell_type": "code",
   "execution_count": 6,
   "outputs": [
    {
     "name": "stdout",
     "output_type": "stream",
     "text": [
      "(8460, 2)\n"
     ]
    }
   ],
   "source": [
    "df_lonely = pd.read_csv(DATA_DIR + \"Lonely_Tweets.csv\")\n",
    "df_lonely['priority'] = [1 for i in range(df_lonely.shape[0])]\n",
    "df_lonely.rename(columns={'0': 'text'}, inplace=True)\n",
    "df_lonely.dropna(inplace=True)\n",
    "df_lonely.drop(columns=['Unnamed: 0'], inplace=True)\n",
    "print(df_lonely.shape)\n",
    "cleaned_data['Lonely_Tweets.csv'] = df_lonely"
   ],
   "metadata": {
    "collapsed": false,
    "ExecuteTime": {
     "start_time": "2023-05-14T17:01:27.586681Z",
     "end_time": "2023-05-14T17:01:27.631700Z"
    }
   }
  },
  {
   "cell_type": "markdown",
   "source": [
    "### mental_health"
   ],
   "metadata": {
    "collapsed": false
   }
  },
  {
   "cell_type": "code",
   "execution_count": 7,
   "outputs": [
    {
     "data": {
      "text/plain": "(27977, 2)"
     },
     "execution_count": 7,
     "metadata": {},
     "output_type": "execute_result"
    }
   ],
   "source": [
    "df_mental_health = pd.read_csv(DATA_DIR + \"mental_health.csv\")\n",
    "df_mental_health.rename(columns={'label':'priority'}, inplace=True)\n",
    "df_mental_health.dropna(inplace=True)\n",
    "df_mental_health.shape"
   ],
   "metadata": {
    "collapsed": false,
    "ExecuteTime": {
     "start_time": "2023-05-14T17:01:29.617605Z",
     "end_time": "2023-05-14T17:01:29.855359Z"
    }
   }
  },
  {
   "cell_type": "code",
   "execution_count": 8,
   "outputs": [],
   "source": [
    "cleaned_data['mental_health.csv'] = df_mental_health"
   ],
   "metadata": {
    "collapsed": false,
    "ExecuteTime": {
     "start_time": "2023-05-14T17:01:31.901725Z",
     "end_time": "2023-05-14T17:01:31.915717Z"
    }
   }
  },
  {
   "cell_type": "markdown",
   "source": [
    "### Normal_Tweets"
   ],
   "metadata": {
    "collapsed": false
   }
  },
  {
   "cell_type": "code",
   "execution_count": 9,
   "outputs": [
    {
     "name": "stdout",
     "output_type": "stream",
     "text": [
      "(9925, 2)\n"
     ]
    }
   ],
   "source": [
    "df_normal = pd.read_csv(DATA_DIR + \"Normal_Tweets.csv\")\n",
    "df_normal['priority'] = [0 for i in range(df_normal.shape[0])]\n",
    "df_normal.rename(columns={'cleaned_text': 'text'}, inplace=True)\n",
    "df_normal.dropna(inplace=True)\n",
    "df_normal.drop(columns=['Unnamed: 0'], inplace=True)\n",
    "print(df_normal.shape)\n",
    "cleaned_data['Normal_Tweets.csv'] = df_normal"
   ],
   "metadata": {
    "collapsed": false,
    "ExecuteTime": {
     "start_time": "2023-05-14T17:01:33.790344Z",
     "end_time": "2023-05-14T17:01:33.825316Z"
    }
   }
  },
  {
   "cell_type": "markdown",
   "source": [
    "### p_n_n_dataset"
   ],
   "metadata": {
    "collapsed": false
   }
  },
  {
   "cell_type": "code",
   "execution_count": 24,
   "outputs": [
    {
     "data": {
      "text/plain": "(174644, 2)"
     },
     "execution_count": 24,
     "metadata": {},
     "output_type": "execute_result"
    }
   ],
   "source": [
    "df_pn = pd.read_csv(DATA_DIR + \"p_n_n_dataset.csv\")\n",
    "df_pn = df_pn[['tweet', 'label']]\n",
    "df_pn['label'] = df_pn['label'].replace(['negative'], 1)\n",
    "df_pn['label'] = df_pn['label'].replace(['neutral', 'positive'], 0)\n",
    "df_pn.rename(columns={'label':'priority', 'tweet': 'text'}, inplace=True)\n",
    "df_pn.dropna(inplace=True)\n",
    "df_pn.shape"
   ],
   "metadata": {
    "collapsed": false,
    "ExecuteTime": {
     "start_time": "2023-05-14T17:06:36.561232Z",
     "end_time": "2023-05-14T17:06:38.074232Z"
    }
   }
  },
  {
   "cell_type": "code",
   "execution_count": 25,
   "outputs": [],
   "source": [
    "cleaned_data['p_n_n_dataset.csv'] = df_pn"
   ],
   "metadata": {
    "collapsed": false,
    "ExecuteTime": {
     "start_time": "2023-05-14T17:06:39.494882Z",
     "end_time": "2023-05-14T17:06:39.529884Z"
    }
   }
  },
  {
   "cell_type": "markdown",
   "source": [
    "### Stressed_Tweets"
   ],
   "metadata": {
    "collapsed": false
   }
  },
  {
   "cell_type": "code",
   "execution_count": 12,
   "outputs": [
    {
     "name": "stdout",
     "output_type": "stream",
     "text": [
      "(8535, 2)\n"
     ]
    }
   ],
   "source": [
    "df_stressed = pd.read_csv(DATA_DIR + \"Stressed_Tweets.csv\")\n",
    "df_stressed['priority'] = [1 for i in range(df_stressed.shape[0])]\n",
    "df_stressed.rename(columns={'cleaned_text': 'text'}, inplace=True)\n",
    "df_stressed.dropna(inplace=True)\n",
    "print(df_stressed.shape)\n",
    "cleaned_data['Stressed_Tweets.csv'] = df_stressed"
   ],
   "metadata": {
    "collapsed": false,
    "ExecuteTime": {
     "start_time": "2023-05-14T17:01:47.909543Z",
     "end_time": "2023-05-14T17:01:47.968165Z"
    }
   }
  },
  {
   "cell_type": "markdown",
   "source": [
    "### Sentiment140 - 1,6M"
   ],
   "metadata": {
    "collapsed": false
   }
  },
  {
   "cell_type": "code",
   "execution_count": 13,
   "outputs": [
    {
     "name": "stdout",
     "output_type": "stream",
     "text": [
      "(1600000, 2)\n"
     ]
    }
   ],
   "source": [
    "df_sentiment = pd.read_csv(DATA_DIR + \"training.1600000.processed.noemoticon.csv\", encoding='latin-1', header=None)\n",
    "cols = ['priority', 'text']\n",
    "df_sentiment = df_sentiment[[0, 5]]\n",
    "df_sentiment.columns= ['priority', 'text']\n",
    "df_sentiment.dropna(inplace=True)\n",
    "print(df_sentiment.shape)\n",
    "#  (0 = negative, 2 = neutral, 4 = positive)\n",
    "df_sentiment['priority'] = df_sentiment['priority'].replace([0], 1)\n",
    "df_sentiment['priority'] = df_sentiment['priority'].replace([2, 4], 0)"
   ],
   "metadata": {
    "collapsed": false,
    "ExecuteTime": {
     "start_time": "2023-05-14T17:02:04.760197Z",
     "end_time": "2023-05-14T17:02:09.794064Z"
    }
   }
  },
  {
   "cell_type": "code",
   "execution_count": 14,
   "outputs": [],
   "source": [
    "cleaned_data['training.1600000.processed.noemoticon.csv'] = df_sentiment"
   ],
   "metadata": {
    "collapsed": false,
    "ExecuteTime": {
     "start_time": "2023-05-14T17:02:12.332475Z",
     "end_time": "2023-05-14T17:02:12.355521Z"
    }
   }
  },
  {
   "cell_type": "markdown",
   "source": [
    "### Anon_Controls"
   ],
   "metadata": {
    "collapsed": false
   }
  },
  {
   "cell_type": "code",
   "execution_count": 56,
   "outputs": [
    {
     "name": "stderr",
     "output_type": "stream",
     "text": [
      "C:\\Users\\julia\\AppData\\Local\\Temp\\ipykernel_14296\\2142906065.py:1: DtypeWarning: Columns (0,1,2,3) have mixed types. Specify dtype option on import or set low_memory=False.\n",
      "  df_anon_control = pd.read_csv(DATA_DIR + \"anon_control_tweets.csv\")\n"
     ]
    }
   ],
   "source": [
    "df_anon_control = pd.read_csv(DATA_DIR + \"anon_control_tweets.csv\")"
   ],
   "metadata": {
    "collapsed": false,
    "ExecuteTime": {
     "start_time": "2023-05-10T02:19:58.053238Z",
     "end_time": "2023-05-10T02:29:49.147564Z"
    }
   }
  },
  {
   "cell_type": "code",
   "execution_count": 57,
   "outputs": [
    {
     "name": "stdout",
     "output_type": "stream",
     "text": [
      "['control' nan]\n"
     ]
    }
   ],
   "source": [
    "df_anon_control = df_anon_control.drop(columns=['Unnamed: 0', 'user_id'], axis=1)\n",
    "print(df_anon_control['disorder'].unique())"
   ],
   "metadata": {
    "collapsed": false,
    "ExecuteTime": {
     "start_time": "2023-05-10T02:29:49.210532Z",
     "end_time": "2023-05-10T02:33:33.693035Z"
    }
   }
  },
  {
   "cell_type": "code",
   "execution_count": 58,
   "outputs": [
    {
     "name": "stdout",
     "output_type": "stream",
     "text": [
      "['control', nan]\n"
     ]
    }
   ],
   "source": [
    "df_anon_control.rename(columns={'disorder': 'priority'}, inplace=True)\n",
    "df_anon_control['priority'] = df_anon_control['priority'].replace(list(df_anon_control['priority'].unique()), 0)"
   ],
   "metadata": {
    "collapsed": false,
    "ExecuteTime": {
     "start_time": "2023-05-10T02:34:50.878118Z",
     "end_time": "2023-05-10T02:37:43.619412Z"
    }
   }
  },
  {
   "cell_type": "code",
   "execution_count": 59,
   "outputs": [
    {
     "data": {
      "text/plain": "(31930059, 2)"
     },
     "execution_count": 59,
     "metadata": {},
     "output_type": "execute_result"
    }
   ],
   "source": [
    "df_anon_control.dropna(inplace=True)\n",
    "df_anon_control.shape"
   ],
   "metadata": {
    "collapsed": false,
    "ExecuteTime": {
     "start_time": "2023-05-10T02:37:46.893926Z",
     "end_time": "2023-05-10T02:42:29.810117Z"
    }
   }
  },
  {
   "cell_type": "code",
   "execution_count": 61,
   "outputs": [],
   "source": [
    "cleaned_data['anon_control_tweets.csv'] = df_anon_control"
   ],
   "metadata": {
    "collapsed": false,
    "ExecuteTime": {
     "start_time": "2023-05-10T02:43:11.008891Z",
     "end_time": "2023-05-10T02:43:11.027004Z"
    }
   }
  },
  {
   "cell_type": "markdown",
   "source": [
    "## Loading previous data"
   ],
   "metadata": {
    "collapsed": false
   }
  },
  {
   "cell_type": "code",
   "execution_count": 15,
   "outputs": [],
   "source": [
    "prev_data = pd.read_csv(\"../data/text/cleaned/out.csv\")\n",
    "prev_data.rename(columns={'label': 'priority'}, inplace=True)"
   ],
   "metadata": {
    "collapsed": false,
    "ExecuteTime": {
     "start_time": "2023-05-14T17:02:24.201376Z",
     "end_time": "2023-05-14T17:02:24.344377Z"
    }
   }
  },
  {
   "cell_type": "code",
   "execution_count": 16,
   "outputs": [],
   "source": [
    "prev_data['priority'] = prev_data['priority'].replace([0, 3, 4], 'high')\n",
    "prev_data['priority'] = prev_data['priority'].replace([1, 2, 5, 6], 'low')\n",
    "prev_data['priority'] = prev_data['priority'].replace(['high', 'low'], [1, 0])\n",
    "cleaned_data['out.csv'] = prev_data"
   ],
   "metadata": {
    "collapsed": false,
    "ExecuteTime": {
     "start_time": "2023-05-14T17:02:26.386741Z",
     "end_time": "2023-05-14T17:02:26.437791Z"
    }
   }
  },
  {
   "cell_type": "code",
   "execution_count": 17,
   "outputs": [
    {
     "data": {
      "text/plain": "array([1, 0], dtype=int64)"
     },
     "execution_count": 17,
     "metadata": {},
     "output_type": "execute_result"
    }
   ],
   "source": [
    "prev_data['priority'].unique()"
   ],
   "metadata": {
    "collapsed": false,
    "ExecuteTime": {
     "start_time": "2023-05-14T17:02:28.711898Z",
     "end_time": "2023-05-14T17:02:28.728973Z"
    }
   }
  },
  {
   "cell_type": "markdown",
   "source": [
    "## Apilar todos los datasets"
   ],
   "metadata": {
    "collapsed": false
   }
  },
  {
   "cell_type": "code",
   "execution_count": 26,
   "outputs": [
    {
     "name": "stdout",
     "output_type": "stream",
     "text": [
      "Anxious_Tweets.csv\n",
      "dataset.xlsx\n",
      "Lonely_Tweets.csv\n",
      "mental_health.csv\n",
      "Normal_Tweets.csv\n",
      "p_n_n_dataset.csv\n",
      "Stressed_Tweets.csv\n",
      "training.1600000.processed.noemoticon.csv\n",
      "out.csv\n"
     ]
    }
   ],
   "source": [
    "for file in cleaned_data.keys():\n",
    "    print(file)\n",
    "    df = cleaned_data[file]\n",
    "    df['priority'] = df['priority'].astype('int8')"
   ],
   "metadata": {
    "collapsed": false,
    "ExecuteTime": {
     "start_time": "2023-05-14T17:06:53.171942Z",
     "end_time": "2023-05-14T17:06:53.211941Z"
    }
   }
  },
  {
   "cell_type": "code",
   "execution_count": 27,
   "outputs": [],
   "source": [
    "final_dataset = pd.concat(list(cleaned_data.values()), axis=0, ignore_index=True)"
   ],
   "metadata": {
    "collapsed": false,
    "ExecuteTime": {
     "start_time": "2023-05-14T17:06:58.780383Z",
     "end_time": "2023-05-14T17:06:59.029884Z"
    }
   }
  },
  {
   "cell_type": "code",
   "execution_count": 28,
   "outputs": [
    {
     "data": {
      "text/plain": "(1914960, 2)"
     },
     "execution_count": 28,
     "metadata": {},
     "output_type": "execute_result"
    }
   ],
   "source": [
    "final_dataset.shape"
   ],
   "metadata": {
    "collapsed": false,
    "ExecuteTime": {
     "start_time": "2023-05-14T17:07:09.437160Z",
     "end_time": "2023-05-14T17:07:09.487158Z"
    }
   }
  },
  {
   "cell_type": "markdown",
   "source": [
    "## Export Final Dataset"
   ],
   "metadata": {
    "collapsed": false
   }
  },
  {
   "cell_type": "code",
   "execution_count": 29,
   "outputs": [],
   "source": [
    "from pathlib import Path\n",
    "\n",
    "filepath = Path('../data/text/cleaned/reduced_final.csv')\n",
    "filepath.parent.mkdir(parents=True, exist_ok=True)\n",
    "final_dataset.to_csv(filepath, index=False)"
   ],
   "metadata": {
    "collapsed": false,
    "ExecuteTime": {
     "start_time": "2023-05-14T17:07:11.831682Z",
     "end_time": "2023-05-14T17:07:21.067548Z"
    }
   }
  }
 ],
 "metadata": {
  "kernelspec": {
   "display_name": "Python 3",
   "language": "python",
   "name": "python3"
  },
  "language_info": {
   "codemirror_mode": {
    "name": "ipython",
    "version": 2
   },
   "file_extension": ".py",
   "mimetype": "text/x-python",
   "name": "python",
   "nbconvert_exporter": "python",
   "pygments_lexer": "ipython2",
   "version": "2.7.6"
  }
 },
 "nbformat": 4,
 "nbformat_minor": 0
}
