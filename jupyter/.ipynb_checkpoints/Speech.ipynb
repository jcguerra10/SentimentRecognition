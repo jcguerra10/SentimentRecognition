{
 "cells": [
  {
   "cell_type": "code",
   "execution_count": 5,
   "outputs": [],
   "source": [
    "import librosa.display\n",
    "import os"
   ],
   "metadata": {
    "collapsed": false,
    "ExecuteTime": {
     "start_time": "2023-04-13T17:03:27.375724Z",
     "end_time": "2023-04-13T17:03:27.379825Z"
    }
   }
  },
  {
   "cell_type": "markdown",
   "source": [
    "## Segment Determination"
   ],
   "metadata": {
    "collapsed": false
   }
  },
  {
   "cell_type": "code",
   "execution_count": 7,
   "outputs": [],
   "source": [
    "def obtener_duraciones(ruta:str, carpetas:list) -> list:\n",
    "    \"\"\"\n",
    "    Receives a path and a list of folders. For each folder, it gets the duration of every .wav\n",
    "    file it finds in it and returns a list of all the durations obtained\n",
    "\n",
    "    :param ruta: The path where the folders with the audio files are located\n",
    "    :type ruta: str\n",
    "    :param carpetas: The list of folders to be processed.\n",
    "    :type carpetas: list\n",
    "    :return: The list with the obtained durations.\n",
    "    :rtype: list\n",
    "    \"\"\"\n",
    "\n",
    "    duraciones = []\n",
    "\n",
    "    for carpeta in carpetas:\n",
    "        carpeta_ruta = os.path.join(ruta, carpeta)\n",
    "        archivos = os.listdir(carpeta_ruta)\n",
    "\n",
    "        for archivo in archivos:\n",
    "            archivo_ruta = os.path.join(carpeta_ruta, archivo)\n",
    "            if(\".wav\" in archivo_ruta):\n",
    "                duracion = librosa.get_duration(path=archivo_ruta)\n",
    "                duraciones.append(duracion)\n",
    "\n",
    "    return duraciones\n",
    "\n"
   ],
   "metadata": {
    "collapsed": false,
    "ExecuteTime": {
     "start_time": "2023-04-13T17:03:50.775607Z",
     "end_time": "2023-04-13T17:03:50.783731Z"
    }
   }
  },
  {
   "cell_type": "code",
   "execution_count": 9,
   "outputs": [
    {
     "ename": "FileNotFoundError",
     "evalue": "[Errno 2] No such file or directory: '../data/audios/Train'",
     "output_type": "error",
     "traceback": [
      "\u001B[0;31m---------------------------------------------------------------------------\u001B[0m",
      "\u001B[0;31mFileNotFoundError\u001B[0m                         Traceback (most recent call last)",
      "Cell \u001B[0;32mIn[9], line 3\u001B[0m\n\u001B[1;32m      1\u001B[0m ruta \u001B[38;5;241m=\u001B[39m \u001B[38;5;124m'\u001B[39m\u001B[38;5;124m../data/audios/\u001B[39m\u001B[38;5;124m'\u001B[39m\n\u001B[1;32m      2\u001B[0m carpetas \u001B[38;5;241m=\u001B[39m [\u001B[38;5;124m'\u001B[39m\u001B[38;5;124mTrain\u001B[39m\u001B[38;5;124m'\u001B[39m, \u001B[38;5;124m'\u001B[39m\u001B[38;5;124mTest\u001B[39m\u001B[38;5;124m'\u001B[39m, \u001B[38;5;124m'\u001B[39m\u001B[38;5;124mValidation\u001B[39m\u001B[38;5;124m'\u001B[39m]\n\u001B[0;32m----> 3\u001B[0m duraciones \u001B[38;5;241m=\u001B[39m \u001B[43mobtener_duraciones\u001B[49m\u001B[43m(\u001B[49m\u001B[43mruta\u001B[49m\u001B[43m,\u001B[49m\u001B[43mcarpetas\u001B[49m\u001B[43m)\u001B[49m\n\u001B[1;32m      4\u001B[0m \u001B[38;5;28mprint\u001B[39m(\u001B[38;5;28mlen\u001B[39m(duraciones),\u001B[38;5;124m\"\u001B[39m\u001B[38;5;124m audios were found\u001B[39m\u001B[38;5;124m\"\u001B[39m)\n",
      "Cell \u001B[0;32mIn[7], line 18\u001B[0m, in \u001B[0;36mobtener_duraciones\u001B[0;34m(ruta, carpetas)\u001B[0m\n\u001B[1;32m     16\u001B[0m \u001B[38;5;28;01mfor\u001B[39;00m carpeta \u001B[38;5;129;01min\u001B[39;00m carpetas:\n\u001B[1;32m     17\u001B[0m     carpeta_ruta \u001B[38;5;241m=\u001B[39m os\u001B[38;5;241m.\u001B[39mpath\u001B[38;5;241m.\u001B[39mjoin(ruta, carpeta)\n\u001B[0;32m---> 18\u001B[0m     archivos \u001B[38;5;241m=\u001B[39m \u001B[43mos\u001B[49m\u001B[38;5;241;43m.\u001B[39;49m\u001B[43mlistdir\u001B[49m\u001B[43m(\u001B[49m\u001B[43mcarpeta_ruta\u001B[49m\u001B[43m)\u001B[49m\n\u001B[1;32m     20\u001B[0m     \u001B[38;5;28;01mfor\u001B[39;00m archivo \u001B[38;5;129;01min\u001B[39;00m archivos:\n\u001B[1;32m     21\u001B[0m         archivo_ruta \u001B[38;5;241m=\u001B[39m os\u001B[38;5;241m.\u001B[39mpath\u001B[38;5;241m.\u001B[39mjoin(carpeta_ruta, archivo)\n",
      "\u001B[0;31mFileNotFoundError\u001B[0m: [Errno 2] No such file or directory: '../data/audios/Train'"
     ]
    }
   ],
   "source": [
    "ruta = '../data/audios/'\n",
    "carpetas = ['Train', 'Test', 'Validation']\n",
    "duraciones = obtener_duraciones(ruta,carpetas)\n",
    "print(len(duraciones),\" audios were found\")"
   ],
   "metadata": {
    "collapsed": false
   }
  },
  {
   "cell_type": "code",
   "execution_count": null,
   "outputs": [],
   "source": [],
   "metadata": {
    "collapsed": false
   }
  }
 ],
 "metadata": {
  "kernelspec": {
   "display_name": "Python 3",
   "language": "python",
   "name": "python3"
  },
  "language_info": {
   "codemirror_mode": {
    "name": "ipython",
    "version": 2
   },
   "file_extension": ".py",
   "mimetype": "text/x-python",
   "name": "python",
   "nbconvert_exporter": "python",
   "pygments_lexer": "ipython2",
   "version": "2.7.6"
  }
 },
 "nbformat": 4,
 "nbformat_minor": 0
}
