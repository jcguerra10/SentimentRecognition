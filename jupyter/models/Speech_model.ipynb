{
 "cells": [
  {
   "cell_type": "markdown",
   "metadata": {
    "collapsed": false
   },
   "source": [
    "# Speech model creation"
   ]
  },
  {
   "cell_type": "code",
   "execution_count": 2,
   "metadata": {
    "collapsed": false,
    "ExecuteTime": {
     "end_time": "2023-05-21T19:26:49.752185450Z",
     "start_time": "2023-05-21T19:26:49.700846205Z"
    }
   },
   "outputs": [],
   "source": [
    "import pandas as pd\n",
    "from sklearn.preprocessing import OneHotEncoder\n",
    "import numpy as np\n",
    "from sklearn.model_selection import train_test_split\n",
    "from sklearn.preprocessing import StandardScaler"
   ]
  },
  {
   "cell_type": "code",
   "execution_count": 3,
   "metadata": {
    "collapsed": false,
    "ExecuteTime": {
     "end_time": "2023-05-21T19:26:54.302106702Z",
     "start_time": "2023-05-21T19:26:50.458631236Z"
    }
   },
   "outputs": [],
   "source": [
    "Features = pd.read_csv(\"../../data/aud_em/features.csv\")"
   ]
  },
  {
   "cell_type": "code",
   "execution_count": 4,
   "outputs": [
    {
     "name": "stdout",
     "output_type": "stream",
     "text": [
      "<class 'pandas.core.frame.DataFrame'>\n",
      "RangeIndex: 11199 entries, 0 to 11198\n",
      "Columns: 1969 entries, feature_0 to emotion\n",
      "dtypes: float64(1968), object(1)\n",
      "memory usage: 168.2+ MB\n"
     ]
    }
   ],
   "source": [
    "# Convertir las columnas de la primera a la penúltima de tipo str a tipo float\n",
    "Features = Features.drop(Features.columns[0], axis=1)\n",
    "Features.info()"
   ],
   "metadata": {
    "collapsed": false,
    "ExecuteTime": {
     "end_time": "2023-05-21T19:27:00.882531816Z",
     "start_time": "2023-05-21T19:27:00.850077254Z"
    }
   }
  },
  {
   "cell_type": "code",
   "execution_count": 5,
   "outputs": [],
   "source": [
    "# CUIDADO\n",
    "Features = Features.drop(Features[Features['emotion'] == 'neutral'].index)"
   ],
   "metadata": {
    "collapsed": false,
    "ExecuteTime": {
     "end_time": "2023-05-21T19:27:01.937923809Z",
     "start_time": "2023-05-21T19:27:01.800555167Z"
    }
   }
  },
  {
   "cell_type": "code",
   "execution_count": 6,
   "outputs": [
    {
     "data": {
      "text/plain": "array(['anger', 'fear', 'joy', 'surprise', 'sadness'], dtype=object)"
     },
     "execution_count": 6,
     "metadata": {},
     "output_type": "execute_result"
    }
   ],
   "source": [
    "Features[\"emotion\"].unique()"
   ],
   "metadata": {
    "collapsed": false,
    "ExecuteTime": {
     "end_time": "2023-05-21T19:27:02.801045391Z",
     "start_time": "2023-05-21T19:27:02.791515150Z"
    }
   }
  },
  {
   "cell_type": "code",
   "execution_count": 7,
   "outputs": [
    {
     "data": {
      "text/plain": "array(['high', 'low'], dtype=object)"
     },
     "execution_count": 7,
     "metadata": {},
     "output_type": "execute_result"
    }
   ],
   "source": [
    "# Suponiendo que la columna \"emotion\" está en el dataframe \"Features\":\n",
    "Features['emotion'].replace({'anger': 'high', 'fear': 'high', 'joy': 'low', 'neutral': 'high', 'surprise': 'low', 'sadness': 'high'}, inplace=True)\n",
    "Features[\"emotion\"].unique()"
   ],
   "metadata": {
    "collapsed": false,
    "ExecuteTime": {
     "end_time": "2023-05-21T19:27:03.769527332Z",
     "start_time": "2023-05-21T19:27:03.753778320Z"
    }
   }
  },
  {
   "cell_type": "code",
   "execution_count": 8,
   "metadata": {
    "collapsed": false,
    "ExecuteTime": {
     "end_time": "2023-05-21T19:27:05.517560003Z",
     "start_time": "2023-05-21T19:27:05.512075403Z"
    }
   },
   "outputs": [],
   "source": [
    "X = Features.iloc[: ,:-1].values\n",
    "Y = Features['emotion'].values"
   ]
  },
  {
   "cell_type": "code",
   "execution_count": 9,
   "metadata": {
    "collapsed": false,
    "ExecuteTime": {
     "end_time": "2023-05-21T19:27:06.454594921Z",
     "start_time": "2023-05-21T19:27:06.443125848Z"
    }
   },
   "outputs": [],
   "source": [
    "encoder = OneHotEncoder()\n",
    "Y = encoder.fit_transform(np.array(Y).reshape(-1,1)).toarray()"
   ]
  },
  {
   "cell_type": "code",
   "execution_count": 10,
   "metadata": {
    "collapsed": false,
    "ExecuteTime": {
     "end_time": "2023-05-21T19:27:08.517289503Z",
     "start_time": "2023-05-21T19:27:08.226009994Z"
    }
   },
   "outputs": [
    {
     "data": {
      "text/plain": "((7186, 1968), (7186, 2), (1797, 1968), (1797, 2))"
     },
     "execution_count": 10,
     "metadata": {},
     "output_type": "execute_result"
    }
   ],
   "source": [
    "x_train, x_test, y_train, y_test = train_test_split(X, Y, test_size=0.2,random_state=0, shuffle=True)\n",
    "x_train.shape, y_train.shape, x_test.shape, y_test.shape"
   ]
  },
  {
   "cell_type": "code",
   "execution_count": 11,
   "metadata": {
    "collapsed": false,
    "ExecuteTime": {
     "end_time": "2023-05-21T19:27:10.387480910Z",
     "start_time": "2023-05-21T19:27:09.934337113Z"
    }
   },
   "outputs": [
    {
     "data": {
      "text/plain": "((7186, 1968), (7186, 2), (1797, 1968), (1797, 2))"
     },
     "execution_count": 11,
     "metadata": {},
     "output_type": "execute_result"
    }
   ],
   "source": [
    "scaler = StandardScaler()\n",
    "x_train = scaler.fit_transform(x_train)\n",
    "x_test = scaler.transform(x_test)\n",
    "x_train.shape, y_train.shape, x_test.shape, y_test.shape"
   ]
  },
  {
   "cell_type": "code",
   "execution_count": 12,
   "metadata": {
    "collapsed": false,
    "ExecuteTime": {
     "end_time": "2023-05-21T19:27:11.567418915Z",
     "start_time": "2023-05-21T19:27:11.562122252Z"
    }
   },
   "outputs": [
    {
     "data": {
      "text/plain": "((7186, 1968, 1), (7186, 2), (1797, 1968, 1), (1797, 2))"
     },
     "execution_count": 12,
     "metadata": {},
     "output_type": "execute_result"
    }
   ],
   "source": [
    "x_train = np.expand_dims(x_train, axis=2)\n",
    "x_test = np.expand_dims(x_test, axis=2)\n",
    "x_train.shape, y_train.shape, x_test.shape, y_test.shape\n"
   ]
  },
  {
   "cell_type": "code",
   "execution_count": 13,
   "metadata": {
    "collapsed": false,
    "ExecuteTime": {
     "end_time": "2023-05-21T19:27:16.172446055Z",
     "start_time": "2023-05-21T19:27:12.744405667Z"
    }
   },
   "outputs": [
    {
     "name": "stderr",
     "output_type": "stream",
     "text": [
      "2023-05-21 14:27:13.046597: I tensorflow/stream_executor/platform/default/dso_loader.cc:49] Successfully opened dynamic library libcudart.so.11.0\n",
      "2023-05-21 14:27:14.410822: I tensorflow/compiler/jit/xla_cpu_device.cc:41] Not creating XLA devices, tf_xla_enable_xla_devices not set\n",
      "2023-05-21 14:27:14.415883: I tensorflow/stream_executor/platform/default/dso_loader.cc:49] Successfully opened dynamic library libcuda.so.1\n",
      "2023-05-21 14:27:16.055064: I tensorflow/stream_executor/cuda/cuda_gpu_executor.cc:941] successful NUMA node read from SysFS had negative value (-1), but there must be at least one NUMA node, so returning NUMA node zero\n",
      "2023-05-21 14:27:16.055194: I tensorflow/core/common_runtime/gpu/gpu_device.cc:1720] Found device 0 with properties: \n",
      "pciBusID: 0000:01:00.0 name: NVIDIA GeForce GTX 1650 computeCapability: 7.5\n",
      "coreClock: 1.515GHz coreCount: 14 deviceMemorySize: 3.82GiB deviceMemoryBandwidth: 178.84GiB/s\n",
      "2023-05-21 14:27:16.055218: I tensorflow/stream_executor/platform/default/dso_loader.cc:49] Successfully opened dynamic library libcudart.so.11.0\n",
      "2023-05-21 14:27:16.064548: I tensorflow/stream_executor/platform/default/dso_loader.cc:49] Successfully opened dynamic library libcublas.so.11\n",
      "2023-05-21 14:27:16.064593: I tensorflow/stream_executor/platform/default/dso_loader.cc:49] Successfully opened dynamic library libcublasLt.so.11\n",
      "2023-05-21 14:27:16.069779: I tensorflow/stream_executor/platform/default/dso_loader.cc:49] Successfully opened dynamic library libcufft.so.10\n",
      "2023-05-21 14:27:16.072298: I tensorflow/stream_executor/platform/default/dso_loader.cc:49] Successfully opened dynamic library libcurand.so.10\n",
      "2023-05-21 14:27:16.092779: I tensorflow/stream_executor/platform/default/dso_loader.cc:49] Successfully opened dynamic library libcusolver.so.10\n",
      "2023-05-21 14:27:16.096719: I tensorflow/stream_executor/platform/default/dso_loader.cc:49] Successfully opened dynamic library libcusparse.so.11\n",
      "2023-05-21 14:27:16.097625: I tensorflow/stream_executor/platform/default/dso_loader.cc:49] Successfully opened dynamic library libcudnn.so.8\n",
      "2023-05-21 14:27:16.097889: I tensorflow/stream_executor/cuda/cuda_gpu_executor.cc:941] successful NUMA node read from SysFS had negative value (-1), but there must be at least one NUMA node, so returning NUMA node zero\n",
      "2023-05-21 14:27:16.098429: I tensorflow/stream_executor/cuda/cuda_gpu_executor.cc:941] successful NUMA node read from SysFS had negative value (-1), but there must be at least one NUMA node, so returning NUMA node zero\n",
      "2023-05-21 14:27:16.099076: I tensorflow/core/common_runtime/gpu/gpu_device.cc:1862] Adding visible gpu devices: 0\n"
     ]
    }
   ],
   "source": [
    "import tensorflow as tf\n",
    "# physical_devices = tf.config.experimental.list_physical_devices('GPU')\n",
    "# assert len(physical_devices) > 0, \"Not enough GPU hardware devices available\"\n",
    "# config = tf.config.experimental.set_memory_growth(physical_devices[0], True)\n",
    "\n",
    "gpus = tf.config.experimental.list_physical_devices('GPU')\n",
    "if gpus:\n",
    "    try:\n",
    "        for gpu in gpus:\n",
    "            tf.config.experimental.set_memory_growth(gpu, True)\n",
    "    except RuntimeError as e:\n",
    "        print(e)"
   ]
  },
  {
   "cell_type": "code",
   "execution_count": 16,
   "outputs": [],
   "source": [
    "from tensorflow.keras.callbacks import EarlyStopping, ReduceLROnPlateau, ModelCheckpoint\n",
    "\n",
    "early_stopping = EarlyStopping(monitor='val_loss', patience=1, restore_best_weights=True)\n",
    "reduce_lr = ReduceLROnPlateau(monitor='val_loss', factor=0.5, patience=0, min_lr=1e-5)\n",
    "cp = ModelCheckpoint('savedSpeech/', save_best_only=True)\n",
    "\n",
    "callbacks = [cp, early_stopping, reduce_lr]"
   ],
   "metadata": {
    "collapsed": false,
    "ExecuteTime": {
     "end_time": "2023-05-21T19:27:44.098971673Z",
     "start_time": "2023-05-21T19:27:44.055912336Z"
    }
   }
  },
  {
   "cell_type": "code",
   "execution_count": 17,
   "metadata": {
    "collapsed": false,
    "ExecuteTime": {
     "end_time": "2023-05-21T19:27:45.089793999Z",
     "start_time": "2023-05-21T19:27:44.978064810Z"
    }
   },
   "outputs": [
    {
     "name": "stdout",
     "output_type": "stream",
     "text": [
      "INFO:tensorflow:Reloading Tuner from ./savedSpeech/fine_tuned/HP_CNN/tuner0.json\n",
      "Search space summary\n",
      "Default search space size: 20\n",
      "conv1_filters (Int)\n",
      "{'default': None, 'conditions': [], 'min_value': 16, 'max_value': 512, 'step': 32, 'sampling': 'linear'}\n",
      "conv1_kernel_size (Int)\n",
      "{'default': None, 'conditions': [], 'min_value': 3, 'max_value': 7, 'step': 2, 'sampling': 'linear'}\n",
      "pool1_size (Int)\n",
      "{'default': None, 'conditions': [], 'min_value': 3, 'max_value': 7, 'step': 2, 'sampling': 'linear'}\n",
      "pool1_strides (Int)\n",
      "{'default': None, 'conditions': [], 'min_value': 1, 'max_value': 3, 'step': 1, 'sampling': 'linear'}\n",
      "conv2_filters (Int)\n",
      "{'default': None, 'conditions': [], 'min_value': 16, 'max_value': 512, 'step': 32, 'sampling': 'linear'}\n",
      "conv2_kernel_size (Int)\n",
      "{'default': None, 'conditions': [], 'min_value': 3, 'max_value': 7, 'step': 2, 'sampling': 'linear'}\n",
      "pool2_size (Int)\n",
      "{'default': None, 'conditions': [], 'min_value': 3, 'max_value': 7, 'step': 2, 'sampling': 'linear'}\n",
      "pool2_strides (Int)\n",
      "{'default': None, 'conditions': [], 'min_value': 1, 'max_value': 3, 'step': 1, 'sampling': 'linear'}\n",
      "conv3_filters (Int)\n",
      "{'default': None, 'conditions': [], 'min_value': 16, 'max_value': 512, 'step': 32, 'sampling': 'linear'}\n",
      "conv3_kernel_size (Int)\n",
      "{'default': None, 'conditions': [], 'min_value': 3, 'max_value': 7, 'step': 2, 'sampling': 'linear'}\n",
      "pool3_size (Int)\n",
      "{'default': None, 'conditions': [], 'min_value': 3, 'max_value': 7, 'step': 2, 'sampling': 'linear'}\n",
      "pool3_strides (Int)\n",
      "{'default': None, 'conditions': [], 'min_value': 1, 'max_value': 3, 'step': 1, 'sampling': 'linear'}\n",
      "dropout1 (Float)\n",
      "{'default': 0.1, 'conditions': [], 'min_value': 0.1, 'max_value': 0.7, 'step': 0.1, 'sampling': 'linear'}\n",
      "conv4_filters (Int)\n",
      "{'default': None, 'conditions': [], 'min_value': 16, 'max_value': 512, 'step': 32, 'sampling': 'linear'}\n",
      "conv4_kernel_size (Int)\n",
      "{'default': None, 'conditions': [], 'min_value': 3, 'max_value': 7, 'step': 2, 'sampling': 'linear'}\n",
      "pool4_size (Int)\n",
      "{'default': None, 'conditions': [], 'min_value': 3, 'max_value': 7, 'step': 2, 'sampling': 'linear'}\n",
      "pool4_strides (Int)\n",
      "{'default': None, 'conditions': [], 'min_value': 1, 'max_value': 3, 'step': 1, 'sampling': 'linear'}\n",
      "dense_units (Int)\n",
      "{'default': None, 'conditions': [], 'min_value': 16, 'max_value': 256, 'step': 16, 'sampling': 'linear'}\n",
      "dropout2 (Float)\n",
      "{'default': 0.1, 'conditions': [], 'min_value': 0.1, 'max_value': 0.7, 'step': 0.1, 'sampling': 'linear'}\n",
      "learning_rate (Float)\n",
      "{'default': 1e-06, 'conditions': [], 'min_value': 1e-06, 'max_value': 0.01, 'step': None, 'sampling': 'log'}\n"
     ]
    },
    {
     "name": "stderr",
     "output_type": "stream",
     "text": [
      "/tmp/ipykernel_9124/2357461865.py:4: DeprecationWarning: `import kerastuner` is deprecated, please use `import keras_tuner`.\n",
      "  from kerastuner import RandomSearch, HyperParameters\n"
     ]
    }
   ],
   "source": [
    "from keras_tuner.engine import tuner\n",
    "from tensorflow.keras.models import Sequential\n",
    "from tensorflow.keras.layers import Conv1D, MaxPooling1D, Flatten, Dense, Dropout\n",
    "from kerastuner import RandomSearch, HyperParameters\n",
    "\n",
    "def build_model(hp):\n",
    "\n",
    "    model = Sequential()\n",
    "    model.add(Conv1D(hp.Int(\"conv1_filters\", min_value=16, max_value=512, step=32), kernel_size=hp.Int(\"conv1_kernel_size\", min_value=3, max_value=7, step=2), strides=1, padding='same', activation='relu', input_shape=(x_train.shape[1], 1)))\n",
    "    model.add(MaxPooling1D(pool_size=hp.Int(\"pool1_size\", min_value=3, max_value=7, step=2), strides=hp.Int(\"pool1_strides\", min_value=1, max_value=3, step=1), padding='same'))\n",
    "\n",
    "    model.add(Conv1D(hp.Int(\"conv2_filters\", min_value=16, max_value=512, step=32), kernel_size=hp.Int(\"conv2_kernel_size\", min_value=3, max_value=7, step=2), strides=1, padding='same', activation='relu'))\n",
    "    model.add(MaxPooling1D(pool_size=hp.Int(\"pool2_size\", min_value=3, max_value=7, step=2), strides=hp.Int(\"pool2_strides\", min_value=1, max_value=3, step=1), padding='same'))\n",
    "\n",
    "    model.add(Conv1D(hp.Int(\"conv3_filters\", min_value=16, max_value=512, step=32), kernel_size=hp.Int(\"conv3_kernel_size\", min_value=3, max_value=7, step=2), strides=1, padding='same', activation='relu'))\n",
    "    model.add(MaxPooling1D(pool_size=hp.Int(\"pool3_size\", min_value=3, max_value=7, step=2), strides=hp.Int(\"pool3_strides\", min_value=1, max_value=3, step=1), padding='same'))\n",
    "    model.add(Dropout(hp.Float(\"dropout1\", min_value=0.1, max_value=0.7, step=0.1)))\n",
    "\n",
    "    model.add(Conv1D(hp.Int(\"conv4_filters\", min_value=16, max_value=512, step=32), kernel_size=hp.Int(\"conv4_kernel_size\", min_value=3, max_value=7, step=2), strides=1, padding='same', activation='relu'))\n",
    "    model.add(MaxPooling1D(pool_size=hp.Int(\"pool4_size\", min_value=3, max_value=7, step=2), strides=hp.Int(\"pool4_strides\", min_value=1, max_value=3, step=1), padding='same'))\n",
    "\n",
    "    model.add(Flatten())\n",
    "    model.add(Dense(units=hp.Int(\"dense_units\", min_value=16, max_value=256, step=16), activation='relu'))\n",
    "    model.add(Dropout(hp.Float(\"dropout2\", min_value=0.1, max_value=0.7, step=0.1)))\n",
    "\n",
    "    model.add(Dense(units=2, activation='softmax'))\n",
    "\n",
    "    optimizer = tf.keras.optimizers.Adam(hp.Float(\"learning_rate\", min_value=1e-6, max_value=1e-2, sampling=\"LOG\"))\n",
    "\n",
    "    model.compile(optimizer=optimizer, loss='binary_crossentropy', metrics=['accuracy'])\n",
    "    return model\n",
    "\n",
    "tuner = RandomSearch(\n",
    "    build_model,\n",
    "    objective=\"val_accuracy\",\n",
    "    max_trials=40,\n",
    "    executions_per_trial=1,\n",
    "    directory='./savedSpeech/fine_tuned/',\n",
    "    project_name='HP_CNN'\n",
    ")\n",
    "\n",
    "# Resumen de la búsqueda\n",
    "tuner.search_space_summary()\n",
    "\n"
   ]
  },
  {
   "cell_type": "code",
   "execution_count": 18,
   "outputs": [
    {
     "name": "stdout",
     "output_type": "stream",
     "text": [
      "INFO:tensorflow:Oracle triggered exit\n"
     ]
    }
   ],
   "source": [
    "BATCH_SIZE=32\n",
    "tuner.search(x_train, y_train,\n",
    "             epochs=5,\n",
    "             validation_split=0.1,\n",
    "             batch_size=BATCH_SIZE,\n",
    "             callbacks=callbacks)\n"
   ],
   "metadata": {
    "collapsed": false,
    "ExecuteTime": {
     "end_time": "2023-05-21T19:27:46.337762051Z",
     "start_time": "2023-05-21T19:27:46.333961993Z"
    }
   }
  },
  {
   "cell_type": "code",
   "execution_count": 19,
   "outputs": [
    {
     "name": "stdout",
     "output_type": "stream",
     "text": [
      "Mejores hiperparámetros encontrados:\n",
      "conv1_filters: 16\n",
      "conv1_kernel_size: 3\n",
      "conv2_filters: 48\n",
      "conv2_kernel_size: 3\n",
      "conv3_filters: 496\n",
      "conv3_kernel_size: 3\n",
      "conv4_filters: 400\n",
      "conv4_kernel_size: 7\n",
      "dense_units: 240\n",
      "dropout1: 0.4\n",
      "dropout2: 0.5\n",
      "learning_rate: 0.00022993196357666725\n",
      "pool1_size: 3\n",
      "pool1_strides: 3\n",
      "pool2_size: 5\n",
      "pool2_strides: 3\n",
      "pool3_size: 5\n",
      "pool3_strides: 3\n",
      "pool4_size: 3\n",
      "pool4_strides: 3\n",
      "<class 'keras_tuner.engine.hyperparameters.hyperparameters.HyperParameters'>\n"
     ]
    }
   ],
   "source": [
    "best_hp_4CNN = tuner.get_best_hyperparameters()[0]\n",
    "\n",
    "print(\"Mejores hiperparámetros encontrados:\")\n",
    "print_hyperparameters(best_hp_4CNN.get_config())\n",
    "print(type(best_hp_4CNN))"
   ],
   "metadata": {
    "collapsed": false,
    "ExecuteTime": {
     "end_time": "2023-05-21T19:27:48.528072689Z",
     "start_time": "2023-05-21T19:27:48.521671749Z"
    }
   }
  },
  {
   "cell_type": "code",
   "execution_count": 19,
   "outputs": [],
   "source": [
    "import pickle\n",
    "filename = 'best_hp_4CNN3.pkl'\n",
    "with open(filename, 'wb') as file:\n",
    "    pickle.dump(best_hp_4CNN, file)"
   ],
   "metadata": {
    "collapsed": false,
    "ExecuteTime": {
     "end_time": "2023-05-11T21:44:04.578737781Z",
     "start_time": "2023-05-11T21:44:04.536503153Z"
    }
   }
  },
  {
   "cell_type": "markdown",
   "source": [
    "## HIPERPARAMETROS CONSEGUIDOS"
   ],
   "metadata": {
    "collapsed": false
   }
  },
  {
   "cell_type": "code",
   "execution_count": 14,
   "outputs": [],
   "source": [
    "def print_hyperparameters(json_data):\n",
    "    values = json_data[\"values\"]\n",
    "\n",
    "    for key, value in sorted(values.items()):\n",
    "        print(f\"{key}: {value}\")"
   ],
   "metadata": {
    "collapsed": false,
    "ExecuteTime": {
     "end_time": "2023-05-21T19:27:23.908220774Z",
     "start_time": "2023-05-21T19:27:23.904020725Z"
    }
   }
  },
  {
   "cell_type": "code",
   "execution_count": 14,
   "outputs": [],
   "source": [
    "import pickle\n",
    "filename = 'best_hp_4CNN3.pkl'\n",
    "with open(filename, 'rb') as file:\n",
    "    best_hp_4CNN = pickle.load(file)"
   ],
   "metadata": {
    "collapsed": false,
    "ExecuteTime": {
     "end_time": "2023-05-11T21:45:42.926452447Z",
     "start_time": "2023-05-11T21:45:42.865511995Z"
    }
   }
  },
  {
   "cell_type": "code",
   "execution_count": 20,
   "outputs": [
    {
     "name": "stdout",
     "output_type": "stream",
     "text": [
      "conv1_filters: 16\n",
      "conv1_kernel_size: 3\n",
      "conv2_filters: 48\n",
      "conv2_kernel_size: 3\n",
      "conv3_filters: 496\n",
      "conv3_kernel_size: 3\n",
      "conv4_filters: 400\n",
      "conv4_kernel_size: 7\n",
      "dense_units: 240\n",
      "dropout1: 0.4\n",
      "dropout2: 0.5\n",
      "learning_rate: 0.00022993196357666725\n",
      "pool1_size: 3\n",
      "pool1_strides: 3\n",
      "pool2_size: 5\n",
      "pool2_strides: 3\n",
      "pool3_size: 5\n",
      "pool3_strides: 3\n",
      "pool4_size: 3\n",
      "pool4_strides: 3\n"
     ]
    }
   ],
   "source": [
    "print_hyperparameters(best_hp_4CNN.get_config())"
   ],
   "metadata": {
    "collapsed": false,
    "ExecuteTime": {
     "end_time": "2023-05-21T19:28:02.273831033Z",
     "start_time": "2023-05-21T19:28:02.263475766Z"
    }
   }
  },
  {
   "cell_type": "code",
   "execution_count": 21,
   "outputs": [],
   "source": [
    "from keras_tuner.engine import tuner\n",
    "from tensorflow.keras.models import Sequential\n",
    "from tensorflow.keras.layers import Conv1D, MaxPooling1D, Flatten, Dense, Dropout\n",
    "from kerastuner import RandomSearch, HyperParameters\n",
    "def best_model(hp):\n",
    "    model = Sequential()\n",
    "    model.add(Conv1D(best_hp_4CNN.get('conv1_filters'), kernel_size=best_hp_4CNN.get('conv1_kernel_size'), strides=1, padding='same', activation='relu', input_shape=(x_train.shape[1], 1)))\n",
    "    model.add(MaxPooling1D(pool_size=best_hp_4CNN.get('pool1_size'), strides=best_hp_4CNN.get('pool1_strides'), padding='same'))\n",
    "    model.add(Conv1D(best_hp_4CNN.get('conv2_filters'), kernel_size=best_hp_4CNN.get('conv2_kernel_size'), strides=1, padding='same', activation='relu'))\n",
    "    model.add(MaxPooling1D(pool_size=best_hp_4CNN.get('pool2_size'), strides=best_hp_4CNN.get('pool2_strides'), padding='same'))\n",
    "    model.add(Conv1D(best_hp_4CNN.get('conv3_filters'), kernel_size=best_hp_4CNN.get('conv3_kernel_size'), strides=1, padding='same', activation='relu'))\n",
    "    model.add(MaxPooling1D(pool_size=best_hp_4CNN.get('pool3_size'), strides=best_hp_4CNN.get('pool3_strides'), padding='same'))\n",
    "    model.add(Dropout(best_hp_4CNN.get('dropout1')))\n",
    "    model.add(Conv1D(best_hp_4CNN.get('conv4_filters'), kernel_size=best_hp_4CNN.get('conv4_kernel_size'), strides=1, padding='same', activation='relu'))\n",
    "    model.add(MaxPooling1D(pool_size=best_hp_4CNN.get('pool4_size'), strides=best_hp_4CNN.get('pool4_strides'), padding='same'))\n",
    "    model.add(Flatten())\n",
    "    model.add(Dense(units=best_hp_4CNN.get('dense_units'), activation='relu'))\n",
    "    model.add(Dropout(best_hp_4CNN.get('dropout2')))\n",
    "    model.add(Dense(units=2, activation='softmax'))\n",
    "    optimizer = tf.keras.optimizers.Adam(best_hp_4CNN.get('learning_rate'))\n",
    "    model.compile(optimizer=optimizer, loss='binary_crossentropy', metrics=['accuracy'])\n",
    "    return model"
   ],
   "metadata": {
    "collapsed": false,
    "ExecuteTime": {
     "end_time": "2023-05-21T19:28:04.524942482Z",
     "start_time": "2023-05-21T19:28:04.518774399Z"
    }
   }
  },
  {
   "cell_type": "code",
   "execution_count": 27,
   "outputs": [
    {
     "name": "stdout",
     "output_type": "stream",
     "text": [
      "Epoch 1/100\n",
      "225/225 [==============================] - 5s 20ms/step - loss: 0.6196 - accuracy: 0.6808 - val_loss: 0.6007 - val_accuracy: 0.7106\n",
      "Epoch 2/100\n",
      "225/225 [==============================] - 4s 19ms/step - loss: 0.6009 - accuracy: 0.6924 - val_loss: 0.5926 - val_accuracy: 0.7106\n",
      "Epoch 3/100\n",
      "225/225 [==============================] - 4s 19ms/step - loss: 0.6111 - accuracy: 0.6822 - val_loss: 0.5787 - val_accuracy: 0.7106\n",
      "Epoch 4/100\n",
      "225/225 [==============================] - 4s 19ms/step - loss: 0.5972 - accuracy: 0.6847 - val_loss: 0.6027 - val_accuracy: 0.7262\n",
      "Epoch 5/100\n",
      "225/225 [==============================] - 4s 19ms/step - loss: 0.5962 - accuracy: 0.6922 - val_loss: 0.5775 - val_accuracy: 0.7257\n",
      "Epoch 6/100\n",
      "225/225 [==============================] - 4s 19ms/step - loss: 0.6024 - accuracy: 0.6859 - val_loss: 0.5756 - val_accuracy: 0.7279\n",
      "Epoch 7/100\n",
      "225/225 [==============================] - 4s 19ms/step - loss: 0.5915 - accuracy: 0.6950 - val_loss: 0.5692 - val_accuracy: 0.7218\n",
      "Epoch 8/100\n",
      "225/225 [==============================] - 4s 19ms/step - loss: 0.5848 - accuracy: 0.7022 - val_loss: 0.5713 - val_accuracy: 0.7257\n",
      "Epoch 9/100\n",
      "225/225 [==============================] - 4s 20ms/step - loss: 0.5848 - accuracy: 0.7014 - val_loss: 0.5677 - val_accuracy: 0.7323\n",
      "Epoch 10/100\n",
      "225/225 [==============================] - 4s 19ms/step - loss: 0.5737 - accuracy: 0.7126 - val_loss: 0.5688 - val_accuracy: 0.7318\n",
      "Epoch 11/100\n",
      "225/225 [==============================] - 4s 19ms/step - loss: 0.5686 - accuracy: 0.7190 - val_loss: 0.5658 - val_accuracy: 0.7318\n",
      "Epoch 12/100\n",
      "225/225 [==============================] - 4s 19ms/step - loss: 0.5765 - accuracy: 0.7090 - val_loss: 0.5733 - val_accuracy: 0.7206\n",
      "Epoch 13/100\n",
      "225/225 [==============================] - 4s 20ms/step - loss: 0.5645 - accuracy: 0.7140 - val_loss: 0.5668 - val_accuracy: 0.7318\n",
      "Epoch 14/100\n",
      "225/225 [==============================] - 4s 20ms/step - loss: 0.5708 - accuracy: 0.7150 - val_loss: 0.5617 - val_accuracy: 0.7351\n",
      "Epoch 15/100\n",
      "225/225 [==============================] - 4s 20ms/step - loss: 0.5714 - accuracy: 0.7094 - val_loss: 0.5659 - val_accuracy: 0.7290\n",
      "Epoch 16/100\n",
      "225/225 [==============================] - 4s 19ms/step - loss: 0.5731 - accuracy: 0.7103 - val_loss: 0.5623 - val_accuracy: 0.7346\n",
      "Epoch 17/100\n",
      "225/225 [==============================] - 4s 19ms/step - loss: 0.5702 - accuracy: 0.7100 - val_loss: 0.5638 - val_accuracy: 0.7295\n"
     ]
    }
   ],
   "source": [
    "from tensorflow.python.keras.callbacks import ModelCheckpoint, EarlyStopping, ReduceLROnPlateau\n",
    "\n",
    "best_model_CNN = best_model(best_hp_4CNN)\n",
    "early_stopping = EarlyStopping(monitor='val_loss', patience=3, restore_best_weights=True)\n",
    "reduce_lr = ReduceLROnPlateau(monitor='val_loss', factor=0.5, patience=0, min_lr=1e-5)\n",
    "historySpeech= best_model_CNN.fit(x_train, y_train, validation_data=(x_test, y_test), batch_size=32, epochs=100, callbacks=[early_stopping,reduce_lr])"
   ],
   "metadata": {
    "collapsed": false,
    "ExecuteTime": {
     "end_time": "2023-05-21T19:39:26.330051514Z",
     "start_time": "2023-05-21T19:38:11.118854267Z"
    }
   }
  },
  {
   "cell_type": "code",
   "execution_count": 28,
   "metadata": {
    "collapsed": false,
    "ExecuteTime": {
     "end_time": "2023-05-21T19:39:30.295231809Z",
     "start_time": "2023-05-21T19:39:29.433008097Z"
    }
   },
   "outputs": [
    {
     "name": "stdout",
     "output_type": "stream",
     "text": [
      "57/57 [==============================] - 0s 6ms/step - loss: 0.5617 - accuracy: 0.7351\n",
      "Accuracy of our model on test data :  73.51140975952148 %\n"
     ]
    },
    {
     "data": {
      "text/plain": "<Figure size 2000x600 with 2 Axes>",
      "image/png": "[encoded data removed]"
     },
     "metadata": {},
     "output_type": "display_data"
    }
   ],
   "source": [
    "from matplotlib import pyplot as plt\n",
    "\n",
    "num_epochs = len(historySpeech.epoch)\n",
    "\n",
    "print(\"Accuracy of our model on test data : \" , best_model_CNN.evaluate(x_test,y_test)[1]*100 , \"%\")\n",
    "\n",
    "epochs = [i for i in range(num_epochs)]\n",
    "fig , ax = plt.subplots(1,2)\n",
    "train_acc = historySpeech.history['accuracy']\n",
    "train_loss = historySpeech.history['loss']\n",
    "test_acc = historySpeech.history['val_accuracy']\n",
    "test_loss = historySpeech.history['val_loss']\n",
    "\n",
    "fig.set_size_inches(20,6)\n",
    "ax[0].plot(epochs , train_loss , label = 'Training Loss')\n",
    "ax[0].plot(epochs , test_loss , label = 'Testing Loss')\n",
    "ax[0].set_title('Training & Testing Loss')\n",
    "ax[0].legend()\n",
    "ax[0].set_xlabel(\"Epochs\")\n",
    "\n",
    "ax[1].plot(epochs , train_acc , label = 'Training Accuracy')\n",
    "ax[1].plot(epochs , test_acc , label = 'Testing Accuracy')\n",
    "ax[1].set_title('Training & Testing Accuracy')\n",
    "ax[1].legend()\n",
    "ax[1].set_xlabel(\"Epochs\")\n",
    "plt.show()"
   ]
  },
  {
   "cell_type": "code",
   "execution_count": 30,
   "metadata": {
    "collapsed": false,
    "ExecuteTime": {
     "end_time": "2023-05-21T19:42:05.467481569Z",
     "start_time": "2023-05-21T19:42:05.018135902Z"
    }
   },
   "outputs": [],
   "source": [
    "# predicting on test data.\n",
    "pred_test = best_model_CNN.predict(x_test)\n",
    "y_pred = encoder.inverse_transform(pred_test)\n",
    "\n",
    "y_test = encoder.inverse_transform(y_test)"
   ]
  },
  {
   "cell_type": "code",
   "execution_count": 31,
   "metadata": {
    "collapsed": false,
    "ExecuteTime": {
     "end_time": "2023-05-21T19:42:06.833798965Z",
     "start_time": "2023-05-21T19:42:06.738504197Z"
    }
   },
   "outputs": [
    {
     "data": {
      "text/plain": "  Predicted Labels Actual Labels\n0             high           low\n1             high           low\n2             high          high\n3             high          high\n4              low           low\n5             high          high\n6             high           low\n7             high           low\n8             high          high\n9             high          high",
      "text/html": "<div>\n<style scoped>\n    .dataframe tbody tr th:only-of-type {\n        vertical-align: middle;\n    }\n\n    .dataframe tbody tr th {\n        vertical-align: top;\n    }\n\n    .dataframe thead th {\n        text-align: right;\n    }\n</style>\n<table border=\"1\" class=\"dataframe\">\n  <thead>\n    <tr style=\"text-align: right;\">\n      <th></th>\n      <th>Predicted Labels</th>\n      <th>Actual Labels</th>\n    </tr>\n  </thead>\n  <tbody>\n    <tr>\n      <th>0</th>\n      <td>high</td>\n      <td>low</td>\n    </tr>\n    <tr>\n      <th>1</th>\n      <td>high</td>\n      <td>low</td>\n    </tr>\n    <tr>\n      <th>2</th>\n      <td>high</td>\n      <td>high</td>\n    </tr>\n    <tr>\n      <th>3</th>\n      <td>high</td>\n      <td>high</td>\n    </tr>\n    <tr>\n      <th>4</th>\n      <td>low</td>\n      <td>low</td>\n    </tr>\n    <tr>\n      <th>5</th>\n      <td>high</td>\n      <td>high</td>\n    </tr>\n    <tr>\n      <th>6</th>\n      <td>high</td>\n      <td>low</td>\n    </tr>\n    <tr>\n      <th>7</th>\n      <td>high</td>\n      <td>low</td>\n    </tr>\n    <tr>\n      <th>8</th>\n      <td>high</td>\n      <td>high</td>\n    </tr>\n    <tr>\n      <th>9</th>\n      <td>high</td>\n      <td>high</td>\n    </tr>\n  </tbody>\n</table>\n</div>"
     },
     "execution_count": 31,
     "metadata": {},
     "output_type": "execute_result"
    }
   ],
   "source": [
    "df = pd.DataFrame(columns=['Predicted Labels', 'Actual Labels'])\n",
    "df['Predicted Labels'] = y_pred.flatten()\n",
    "df['Actual Labels'] = y_test.flatten()\n",
    "\n",
    "df.head(10)"
   ]
  },
  {
   "cell_type": "code",
   "execution_count": 32,
   "metadata": {
    "collapsed": false,
    "ExecuteTime": {
     "end_time": "2023-05-21T19:42:08.353015285Z",
     "start_time": "2023-05-21T19:42:08.151742619Z"
    }
   },
   "outputs": [
    {
     "data": {
      "text/plain": "<Figure size 1200x1000 with 2 Axes>",
      "image/png": "[encoded data removed]"
     },
     "metadata": {},
     "output_type": "display_data"
    }
   ],
   "source": [
    "from sklearn.metrics import confusion_matrix\n",
    "import seaborn as sns\n",
    "\n",
    "cm = confusion_matrix(y_test, y_pred)\n",
    "plt.figure(figsize = (12, 10))\n",
    "cm = pd.DataFrame(cm , index = [i for i in encoder.categories_] , columns = [i for i in encoder.categories_])\n",
    "sns.heatmap(cm, linecolor='white', cmap='Blues', linewidth=1, annot=True, fmt='')\n",
    "plt.title('Confusion Matrix', size=20)\n",
    "plt.xlabel('Predicted Labels', size=14)\n",
    "plt.ylabel('Actual Labels', size=14)\n",
    "plt.show()"
   ]
  },
  {
   "cell_type": "code",
   "execution_count": 33,
   "metadata": {
    "collapsed": false,
    "ExecuteTime": {
     "end_time": "2023-05-21T19:42:09.599209299Z",
     "start_time": "2023-05-21T19:42:09.564272796Z"
    }
   },
   "outputs": [
    {
     "name": "stdout",
     "output_type": "stream",
     "text": [
      "              precision    recall  f1-score   support\n",
      "\n",
      "        high       0.74      0.98      0.84      1277\n",
      "         low       0.71      0.14      0.24       520\n",
      "\n",
      "    accuracy                           0.74      1797\n",
      "   macro avg       0.72      0.56      0.54      1797\n",
      "weighted avg       0.73      0.74      0.67      1797\n",
      "\n"
     ]
    }
   ],
   "source": [
    "from sklearn.metrics import classification_report\n",
    "\n",
    "print(classification_report(y_test, y_pred))"
   ]
  },
  {
   "cell_type": "code",
   "execution_count": 38,
   "outputs": [
    {
     "data": {
      "text/plain": "tensorflow.python.keras.engine.sequential.Sequential"
     },
     "execution_count": 38,
     "metadata": {},
     "output_type": "execute_result"
    }
   ],
   "source": [
    "best_model_CNN.save('modelo_entrenado.h5')\n",
    "type(best_model_CNN)"
   ],
   "metadata": {
    "collapsed": false,
    "ExecuteTime": {
     "end_time": "2023-05-21T19:54:54.162014520Z",
     "start_time": "2023-05-21T19:54:54.027007536Z"
    }
   }
  },
  {
   "cell_type": "code",
   "execution_count": 35,
   "outputs": [],
   "source": [
    "from tensorflow.keras.models import load_model\n",
    "\n",
    "# Carga el modelo desde el archivo\n",
    "modelo_cargado = load_model('modelo_entrenado.h5')"
   ],
   "metadata": {
    "collapsed": false,
    "ExecuteTime": {
     "end_time": "2023-05-21T19:52:34.676296894Z",
     "start_time": "2023-05-21T19:52:34.488159121Z"
    }
   }
  },
  {
   "cell_type": "code",
   "execution_count": null,
   "outputs": [],
   "source": [],
   "metadata": {
    "collapsed": false
   }
  }
 ],
 "metadata": {
  "kernelspec": {
   "display_name": "Python 3",
   "language": "python",
   "name": "python3"
  },
  "language_info": {
   "codemirror_mode": {
    "name": "ipython",
    "version": 3
   },
   "file_extension": ".py",
   "mimetype": "text/x-python",
   "name": "python",
   "nbconvert_exporter": "python",
   "pygments_lexer": "ipython3",
   "version": "3.10.9"
  }
 },
 "nbformat": 4,
 "nbformat_minor": 0
}
