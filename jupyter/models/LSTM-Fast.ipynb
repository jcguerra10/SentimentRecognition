{
 "cells": [
  {
   "cell_type": "code",
   "execution_count": 1,
   "metadata": {
    "collapsed": true
   },
   "outputs": [
    {
     "name": "stderr",
     "output_type": "stream",
     "text": [
      "2023-04-30 13:19:01.638238: I tensorflow/core/platform/cpu_feature_guard.cc:193] This TensorFlow binary is optimized with oneAPI Deep Neural Network Library (oneDNN) to use the following CPU instructions in performance-critical operations:  SSE4.1 SSE4.2 AVX AVX2 AVX512F AVX512_VNNI FMA\n",
      "To enable them in other operations, rebuild TensorFlow with the appropriate compiler flags.\n"
     ]
    }
   ],
   "source": [
    "import numpy as np\n",
    "import pandas as pd\n",
    "import tensorflow as tf\n",
    "from tf.keras import Sequential\n",
    "from keras.preprocessing.text import Tokenizer\n",
    "from keras.utils import pad_sequences\n",
    "from keras.models import Sequential\n",
    "from keras.layers import Embedding, LSTM, Dense\n",
    "from keras.utils import to_categorical\n",
    "from sklearn.model_selection import train_test_split\n",
    "from sklearn.preprocessing import LabelEncoder\n",
    "\n",
    "# Load the dataset\n",
    "data = pd.read_csv(\"../../data/cleaned/out.csv\")"
   ]
  },
  {
   "cell_type": "code",
   "execution_count": 2,
   "outputs": [],
   "source": [
    "# Preprocess the text data\n",
    "tokenizer = Tokenizer()\n",
    "tokenizer.fit_on_texts(data['text'])\n",
    "sequences = tokenizer.texts_to_sequences(data['text'])\n",
    "word_index = tokenizer.word_index\n",
    "\n",
    "max_sequence_length = max(len(seq) for seq in sequences)\n",
    "input_data = pad_sequences(sequences, maxlen=max_sequence_length)\n",
    "\n",
    "# One-hot encode the labels\n",
    "label_encoder = LabelEncoder()\n",
    "integer_encoded_labels = label_encoder.fit_transform(data['label'])\n",
    "labels = to_categorical(integer_encoded_labels, num_classes=7)"
   ],
   "metadata": {
    "collapsed": false
   }
  },
  {
   "cell_type": "code",
   "execution_count": 3,
   "outputs": [],
   "source": [
    "X_train, X_test, y_train, y_test = train_test_split(input_data, labels, test_size=0.2, random_state=42)"
   ],
   "metadata": {
    "collapsed": false
   }
  },
  {
   "cell_type": "code",
   "execution_count": 4,
   "outputs": [],
   "source": [
    "embedding_dim = 100\n",
    "vocab_size = len(word_index) + 1\n",
    "\n",
    "model = Sequential([\n",
    "    Embedding(vocab_size, embedding_dim, input_length=max_sequence_length),\n",
    "    LSTM(128, dropout=0.2, recurrent_dropout=0.2),\n",
    "    Dense(7, activation='softmax')\n",
    "])\n",
    "\n",
    "model.compile(loss='categorical_crossentropy', optimizer='adam', metrics=['accuracy'])"
   ],
   "metadata": {
    "collapsed": false
   }
  },
  {
   "cell_type": "code",
   "execution_count": 5,
   "outputs": [
    {
     "name": "stdout",
     "output_type": "stream",
     "text": [
      "Epoch 1/10\n",
      "743/743 - 211s - loss: 1.5471 - accuracy: 0.4067 - val_loss: 1.3626 - val_accuracy: 0.4941 - 211s/epoch - 284ms/step\n",
      "Epoch 2/10\n",
      "743/743 - 285s - loss: 1.1252 - accuracy: 0.5907 - val_loss: 1.3206 - val_accuracy: 0.5106 - 285s/epoch - 384ms/step\n",
      "Epoch 3/10\n",
      "743/743 - 214s - loss: 0.8278 - accuracy: 0.7116 - val_loss: 1.4487 - val_accuracy: 0.4968 - 214s/epoch - 289ms/step\n",
      "Epoch 4/10\n",
      "743/743 - 207s - loss: 0.5833 - accuracy: 0.8020 - val_loss: 1.6036 - val_accuracy: 0.4843 - 207s/epoch - 279ms/step\n",
      "Epoch 5/10\n",
      "743/743 - 217s - loss: 0.4417 - accuracy: 0.8477 - val_loss: 1.7806 - val_accuracy: 0.4794 - 217s/epoch - 291ms/step\n",
      "Epoch 6/10\n",
      "743/743 - 248s - loss: 0.3625 - accuracy: 0.8740 - val_loss: 2.1126 - val_accuracy: 0.4748 - 248s/epoch - 334ms/step\n",
      "Epoch 7/10\n",
      "743/743 - 209s - loss: 0.3159 - accuracy: 0.8891 - val_loss: 2.1132 - val_accuracy: 0.4680 - 209s/epoch - 281ms/step\n",
      "Epoch 8/10\n",
      "743/743 - 228s - loss: 0.2788 - accuracy: 0.9007 - val_loss: 2.3407 - val_accuracy: 0.4614 - 228s/epoch - 308ms/step\n",
      "Epoch 9/10\n",
      "743/743 - 239s - loss: 0.2532 - accuracy: 0.9096 - val_loss: 2.4319 - val_accuracy: 0.4617 - 239s/epoch - 321ms/step\n",
      "Epoch 10/10\n",
      "743/743 - 225s - loss: 0.2322 - accuracy: 0.9164 - val_loss: 2.5411 - val_accuracy: 0.4629 - 225s/epoch - 302ms/step\n"
     ]
    }
   ],
   "source": [
    "num_epochs = 10\n",
    "batch_size = 64\n",
    "\n",
    "history = model.fit(\n",
    "    X_train, y_train,\n",
    "    validation_split=0.1,\n",
    "    epochs=num_epochs,\n",
    "    batch_size=batch_size,\n",
    "    verbose=2\n",
    ")"
   ],
   "metadata": {
    "collapsed": false
   }
  },
  {
   "cell_type": "code",
   "execution_count": 6,
   "outputs": [
    {
     "name": "stdout",
     "output_type": "stream",
     "text": [
      "413/413 - 23s - loss: 2.4631 - accuracy: 0.4713 - 23s/epoch - 57ms/step\n",
      "Test accuracy: 0.47128352522850037\n"
     ]
    }
   ],
   "source": [
    "test_loss, test_accuracy = model.evaluate(X_test, y_test, verbose=2)\n",
    "print(f'Test accuracy: {test_accuracy}')"
   ],
   "metadata": {
    "collapsed": false
   }
  }
 ],
 "metadata": {
  "kernelspec": {
   "display_name": "Python 3",
   "language": "python",
   "name": "python3"
  },
  "language_info": {
   "codemirror_mode": {
    "name": "ipython",
    "version": 2
   },
   "file_extension": ".py",
   "mimetype": "text/x-python",
   "name": "python",
   "nbconvert_exporter": "python",
   "pygments_lexer": "ipython2",
   "version": "2.7.6"
  }
 },
 "nbformat": 4,
 "nbformat_minor": 0
}
